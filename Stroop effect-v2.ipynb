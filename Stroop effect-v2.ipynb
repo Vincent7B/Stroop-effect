{
 "cells": [
  {
   "cell_type": "markdown",
   "metadata": {},
   "source": [
    "\n",
    "# Project: Test a Perceptual Phenomenon (Stroop effect)\n",
    "\n",
    "## Table of Contents\n",
    "<ul>\n",
    "<li><a href=\"#intro\">Introduction</a></li>\n",
    "<li><a href=\"#set_up\">Problem set-up</a></li>\n",
    "<li><a href=\"#description\">Statistical description of the dataset</a></li>\n",
    "<li><a href=\"#test\">Statistical test and results</a></li>\n",
    "<li><a href=\"#conclusions\">Conclusions</a></li>\n",
    "<li><a href=\"#ref\">References</a></li>\n",
    "</ul>"
   ]
  },
  {
   "cell_type": "markdown",
   "metadata": {},
   "source": [
    "<a id='intro'></a>\n",
    "## Introduction\n",
    "\n",
    "When I began to work, about ten years ago, I had quite commuting time to join my workplace. I used this \"imposed\" free time to read, listen to music, but also play video games on the Nintendo DS game console I was given a few years before. \n",
    "Among the different games, I remember the Brain training program called (in French) \"Quel âge a votre cerveau?\" based on the work of the Japanese professor Dr. Kawashima (<a href=\"#ref1\">ref1</a>). In this training program, there was this exercise where I had to name the color in which a word displayed in the screen was written. The words themselves were names of colors. I remember it was tricky because sometimes the \"ink\" color matched with the word (i.e Green written in green), but most often it did not. I also remember that I made progress in this exercise by intentionally frowning so that to blur the word yet still see the color.\n",
    "\n",
    "Here I am, ten years later, working on the project related to the Descriptive & Inferential Statistics module of Udacity DataAnalyst Nanodegree. To my great surprise the dataset we are proposed to investigate is about the game I used to play! Now, thanks to the provided project background information and link to the Wikipedia page (<a href=\"#ref2\">ref2</a>), I know the game was based on a Stroop test. \n",
    "\n",
    "The aim of Stroop was to show that there is a significative difference of response time (in the statistical point of view)  from subjects that are assigned with the same task in so-called \"congruent\" and \"incongruent\" conditions. \n",
    "\n",
    "In the Stroop test we are interested in, the task consisted in saying out loud the color of the ink in which each word of the list was printed. In congruent conditions, the ink color matched with the word itself (\"Red\" written in red, \"Blue\" written in blue...), whereas in incongruent conditions it did not (\"Green\" written in orange, \"Red\" written in blue...). The list of words were of equal size, and what was measured was the total time to complete the task, in seconds. \n",
    "\n",
    "In the first part of the report, we set the up the problem (independant and dependant variables, null and alternative hypotheses, kind of statistical test). Then, we present a short statistical description of the dataset with both measures and visualizations. In the third part, the statistical test is performed, its results are presented and discussed. Finally, in the last section, we try to broaden the scope by proposing another context where a Stroop effect might be observed. \n"
   ]
  },
  {
   "cell_type": "code",
   "execution_count": 1,
   "metadata": {
    "collapsed": true
   },
   "outputs": [],
   "source": [
    "# import useful packages\n",
    "\n",
    "import matplotlib.pyplot as plt\n",
    "import numpy as np\n",
    "import pandas as pd\n",
    "import seaborn as sns\n",
    "%matplotlib inline"
   ]
  },
  {
   "cell_type": "markdown",
   "metadata": {},
   "source": [
    "<a id='set_up'></a>\n",
    "## Problem set-up\n",
    "\n",
    "### General properties\n",
    "We start by reading the original csv file, and plot the 5 first lines to have a look at the variables."
   ]
  },
  {
   "cell_type": "code",
   "execution_count": 2,
   "metadata": {},
   "outputs": [
    {
     "data": {
      "text/html": [
       "<div>\n",
       "<style>\n",
       "    .dataframe thead tr:only-child th {\n",
       "        text-align: right;\n",
       "    }\n",
       "\n",
       "    .dataframe thead th {\n",
       "        text-align: left;\n",
       "    }\n",
       "\n",
       "    .dataframe tbody tr th {\n",
       "        vertical-align: top;\n",
       "    }\n",
       "</style>\n",
       "<table border=\"1\" class=\"dataframe\">\n",
       "  <thead>\n",
       "    <tr style=\"text-align: right;\">\n",
       "      <th></th>\n",
       "      <th>Congruent</th>\n",
       "      <th>Incongruent</th>\n",
       "    </tr>\n",
       "  </thead>\n",
       "  <tbody>\n",
       "    <tr>\n",
       "      <th>0</th>\n",
       "      <td>12.079</td>\n",
       "      <td>19.278</td>\n",
       "    </tr>\n",
       "    <tr>\n",
       "      <th>1</th>\n",
       "      <td>16.791</td>\n",
       "      <td>18.741</td>\n",
       "    </tr>\n",
       "    <tr>\n",
       "      <th>2</th>\n",
       "      <td>9.564</td>\n",
       "      <td>21.214</td>\n",
       "    </tr>\n",
       "    <tr>\n",
       "      <th>3</th>\n",
       "      <td>8.630</td>\n",
       "      <td>15.687</td>\n",
       "    </tr>\n",
       "    <tr>\n",
       "      <th>4</th>\n",
       "      <td>14.669</td>\n",
       "      <td>22.803</td>\n",
       "    </tr>\n",
       "  </tbody>\n",
       "</table>\n",
       "</div>"
      ],
      "text/plain": [
       "   Congruent  Incongruent\n",
       "0     12.079       19.278\n",
       "1     16.791       18.741\n",
       "2      9.564       21.214\n",
       "3      8.630       15.687\n",
       "4     14.669       22.803"
      ]
     },
     "execution_count": 2,
     "metadata": {},
     "output_type": "execute_result"
    }
   ],
   "source": [
    "filename = 'C:/Users/C91635/TestAPerceptualPhenomenon/stroopdata.csv'\n",
    "stroop_df = pd.read_csv(filename)\n",
    "\n",
    "stroop_df.head()"
   ]
  },
  {
   "cell_type": "markdown",
   "metadata": {},
   "source": [
    "First we want to know the number of samples in the dataset (i.e. number of subjects who performed the two tests), and check that there is no missing value. We can answer these two questions with the count function:"
   ]
  },
  {
   "cell_type": "code",
   "execution_count": 3,
   "metadata": {},
   "outputs": [
    {
     "data": {
      "text/plain": [
       "Congruent      24\n",
       "Incongruent    24\n",
       "dtype: int64"
      ]
     },
     "execution_count": 3,
     "metadata": {},
     "output_type": "execute_result"
    }
   ],
   "source": [
    "stroop_df.count()"
   ]
  },
  {
   "cell_type": "markdown",
   "metadata": {},
   "source": [
    "As can be seen, the dataset is composed of the result for the congruent and incongruent tests for 24 subjects. There is no missing value. In the section dealing with descriptive statistics of the dataset, we will check that there is no 'unexpected' value (i.e. negative value, which would not make any sense as we are measuring a total response time).  "
   ]
  },
  {
   "cell_type": "markdown",
   "metadata": {},
   "source": [
    "### Setting-up the problem"
   ]
  },
  {
   "cell_type": "markdown",
   "metadata": {},
   "source": [
    "We are interested in the effect of the test condition (congruent or incongruent word color) on the time taken for each subject to name the ink color (total response time of the subject). Therefore, in this problem:\n",
    "- our independant variable is the test condition (congruent or incongruent).\n",
    "- our dependant variable is the total time needed by the subject to complete the task, in seconds.  \n",
    "\n",
    "In this experiment, the same subjects complete the tasks in congruent and incongruent conditions. It is a within-subject, repeated measures design. The statistical test we will perform will be a $\\mathbf{dependent\\,test}$. \n",
    "\n",
    "We think that the response time is going to be longer when in incongruent condition because the brain needs extra time to reject the contradictory information provided by the meaning of the word. We thus porpose to perform a $\\mathbf{one-tailed}$ statistical test $\\mathbf{in\\,the\\,positive\\,direction}$. \n",
    "\n",
    "Let us note $\\mu_C$ and $\\mu_I$ the congruent and incongruent population means respectively. These populations mean, and also the populations standard deviation are unknown. We will thus perform a $\\mathbf{t-test}$. \n",
    "\n",
    "To summarize, we propose to perform a one-tailed t-test (in the positive direction) for dependant means with the following assumptions: \n",
    "- $H_0$ (null hypothesis): the average response time is the same in congruent and incongruent populations. The congruent and the incongruent populations mean are equal, $H_0$ : $\\mu_I$ = $\\mu_C$\n",
    "- $H_1$ (alternative hypothesis): the average response time is higher for the incongruent population than for the congruent population. The incongruent population mean is higher than the congruent population mean, $H_1$ : $\\mu_I$ > $\\mu_C$\n",
    "\n",
    "We propose to use an alpha level of .05. We will reject the null hypothesis if the probability of randomly choosing samples  with the observed difference between sample means is less than .05. \n"
   ]
  },
  {
   "cell_type": "markdown",
   "metadata": {},
   "source": [
    "<a id='description'></a>\n",
    "## Statistical description of the dataset\n",
    "\n",
    "### Measures of central tendancy and variability\n",
    "We use the describe function as a quick way to compute, among others, the mean, standard deviation, minimum and maximum of the samples. Note that according to the documentation of pandas std function, by default the standard deviation is calculated using Bessel correction: the standard deviation shown below is the sample standard deviation (division by N-1).   "
   ]
  },
  {
   "cell_type": "code",
   "execution_count": 4,
   "metadata": {},
   "outputs": [
    {
     "data": {
      "text/html": [
       "<div>\n",
       "<style>\n",
       "    .dataframe thead tr:only-child th {\n",
       "        text-align: right;\n",
       "    }\n",
       "\n",
       "    .dataframe thead th {\n",
       "        text-align: left;\n",
       "    }\n",
       "\n",
       "    .dataframe tbody tr th {\n",
       "        vertical-align: top;\n",
       "    }\n",
       "</style>\n",
       "<table border=\"1\" class=\"dataframe\">\n",
       "  <thead>\n",
       "    <tr style=\"text-align: right;\">\n",
       "      <th></th>\n",
       "      <th>Congruent</th>\n",
       "      <th>Incongruent</th>\n",
       "    </tr>\n",
       "  </thead>\n",
       "  <tbody>\n",
       "    <tr>\n",
       "      <th>count</th>\n",
       "      <td>24.000000</td>\n",
       "      <td>24.000000</td>\n",
       "    </tr>\n",
       "    <tr>\n",
       "      <th>mean</th>\n",
       "      <td>14.051125</td>\n",
       "      <td>22.015917</td>\n",
       "    </tr>\n",
       "    <tr>\n",
       "      <th>std</th>\n",
       "      <td>3.559358</td>\n",
       "      <td>4.797057</td>\n",
       "    </tr>\n",
       "    <tr>\n",
       "      <th>min</th>\n",
       "      <td>8.630000</td>\n",
       "      <td>15.687000</td>\n",
       "    </tr>\n",
       "    <tr>\n",
       "      <th>25%</th>\n",
       "      <td>11.895250</td>\n",
       "      <td>18.716750</td>\n",
       "    </tr>\n",
       "    <tr>\n",
       "      <th>50%</th>\n",
       "      <td>14.356500</td>\n",
       "      <td>21.017500</td>\n",
       "    </tr>\n",
       "    <tr>\n",
       "      <th>75%</th>\n",
       "      <td>16.200750</td>\n",
       "      <td>24.051500</td>\n",
       "    </tr>\n",
       "    <tr>\n",
       "      <th>max</th>\n",
       "      <td>22.328000</td>\n",
       "      <td>35.255000</td>\n",
       "    </tr>\n",
       "  </tbody>\n",
       "</table>\n",
       "</div>"
      ],
      "text/plain": [
       "       Congruent  Incongruent\n",
       "count  24.000000    24.000000\n",
       "mean   14.051125    22.015917\n",
       "std     3.559358     4.797057\n",
       "min     8.630000    15.687000\n",
       "25%    11.895250    18.716750\n",
       "50%    14.356500    21.017500\n",
       "75%    16.200750    24.051500\n",
       "max    22.328000    35.255000"
      ]
     },
     "execution_count": 4,
     "metadata": {},
     "output_type": "execute_result"
    }
   ],
   "source": [
    "stroop_df.describe()"
   ]
  },
  {
   "cell_type": "markdown",
   "metadata": {},
   "source": [
    "As measures of the central tendency, we use the mean and median values (the median value correponds to the 50% percentile in the table above).\n",
    "\n",
    "As can be seen, the mean of the congruent sample is about 14s, whereas about 22s for the incongruent sample. The same trend is observed on the median values: 14.4s for the congruent sample, whereas 21s for the incongruent sample. \n",
    "\n",
    "This finding on the measures of central tendency is in line with our alternative hypothesis and reinforces our choice for a one-tailed test."
   ]
  },
  {
   "cell_type": "markdown",
   "metadata": {},
   "source": [
    "As measures of variability, we use the sample standard deviation and the interquartile range (IQR). The interquartile range can be deducted from the 25% and 75% percentiles in the table above, but we can also use the quantile function to compute it explicitely:"
   ]
  },
  {
   "cell_type": "code",
   "execution_count": 5,
   "metadata": {},
   "outputs": [
    {
     "data": {
      "text/plain": [
       "Congruent      4.30550\n",
       "Incongruent    5.33475\n",
       "dtype: float64"
      ]
     },
     "execution_count": 5,
     "metadata": {},
     "output_type": "execute_result"
    }
   ],
   "source": [
    "stroop_df.quantile(q=0.75)-stroop_df.quantile(q=0.25)"
   ]
  },
  {
   "cell_type": "markdown",
   "metadata": {},
   "source": [
    "As can be seen, the congruent sample exhibits a smaller standard deviation (3.6s) and interquartile range (4.3s) than the incongruent sample (standard deviation of 4.8s and IQR of 5.3s). \n",
    "\n",
    "This increase of the variability of about 30% is not surprising. Indeed, we may expect the scores to show more dispersion around a central value in the incongruent scenario, where the subjects are accomplishing a task that does need a specific attention. For instance, the state of concentration of the subject is expected to introduce more dispersion in the scores in incongruent conditions than in congruent conditions. \n",
    "\n",
    "Finally note that there is no meaningless or unexpected minimum or maximum values in the dataset. In particular, there is no negative or abnormally short total reponse time, neither abnormally large (say higher than 1h = 3600s) values. "
   ]
  },
  {
   "cell_type": "markdown",
   "metadata": {},
   "source": [
    "### Sample distribution visualizations\n",
    "\n",
    "We plot the histograms and boxplots of the samples:"
   ]
  },
  {
   "cell_type": "code",
   "execution_count": 6,
   "metadata": {},
   "outputs": [
    {
     "data": {
      "image/png": "[encoded data removed]",
      "text/plain": [
       "<matplotlib.figure.Figure at 0xb00da58>"
      ]
     },
     "metadata": {},
     "output_type": "display_data"
    }
   ],
   "source": [
    "# histogram (bin size is about 2.5 seconds)\n",
    "stroop_df.plot.hist(bins=12,alpha=0.5)\n",
    "plt.xlabel('Subject score in seconds')\n",
    "plt.xlim([0,36])\n",
    "plt.legend(['Congruent','Incongruent']);"
   ]
  },
  {
   "cell_type": "markdown",
   "metadata": {},
   "source": [
    "The number of datapoint is relatively small, but the range of scores is quite high, as can be seen in the statistics description table. A bin size of about 2.5s was found to be a good trade-off for visualizing the histogram. \n",
    "\n",
    "According to the histograms above, the distributions of congruent and incongruent samples show a similar shape (slightly positively skewed). The distribution of the incongruent sample can be seen, as a first estimate, as a translated version of the congruent distribution. The translation is towards higher subject score, which is in line with the trend observed on the measures of central tendency. "
   ]
  },
  {
   "cell_type": "code",
   "execution_count": 7,
   "metadata": {},
   "outputs": [
    {
     "data": {
      "image/png": "[encoded data removed]",
      "text/plain": [
       "<matplotlib.figure.Figure at 0xb149240>"
      ]
     },
     "metadata": {},
     "output_type": "display_data"
    }
   ],
   "source": [
    "# boxplots\n",
    "stroop_df.boxplot()\n",
    "plt.ylabel('Subject score in seconds');"
   ]
  },
  {
   "cell_type": "markdown",
   "metadata": {},
   "source": [
    "In the comparative boxplots, the \"translation\" of the incongruent sample towards higher subject scores is also clearly visible. The size of the box, which symbolizes the interquartile range, is also larger for the incongruent sample. This is in line with what we discussed earlier (see discussion at the end of the subsection dealing with the measures of variability).   "
   ]
  },
  {
   "cell_type": "markdown",
   "metadata": {},
   "source": [
    "### Check of the test assumptions\n",
    "\n",
    "Before going on with the test, let us discuss the assumptions of a t-test for dependent means. The 4 main assumptions are summarized in <a href=\"#ref3\">ref3</a> and explained with more details in <a href=\"#ref4\">ref4</a>. As written in <a href=\"#ref4\">ref4</a>, these assumptions refer to the differences between the two sets of values (here the scores in congruent and incongruent conditions):\n",
    "- The dependent variable must be continuous. This assumption is verified here, as a response time is a continous variable.\n",
    "- The observations are independent of one another. This assumption is also verified, given that each observation correspond to a different subject.\n",
    "- The dependent variable should be approximately normally distributed and should not contain any outliers. We propose to check these last 2 assumptions by plotting the histogram and boxplot of the difference between scores.\n"
   ]
  },
  {
   "cell_type": "markdown",
   "metadata": {},
   "source": [
    "We start by creating a new variable Diff_I_C with the difference between scores in incongruent and congruent conditions:"
   ]
  },
  {
   "cell_type": "code",
   "execution_count": 8,
   "metadata": {},
   "outputs": [
    {
     "data": {
      "text/plain": [
       "count    24.000000\n",
       "mean      7.964792\n",
       "std       4.864827\n",
       "min       1.950000\n",
       "25%       3.645500\n",
       "50%       7.666500\n",
       "75%      10.258500\n",
       "max      21.919000\n",
       "dtype: float64"
      ]
     },
     "execution_count": 8,
     "metadata": {},
     "output_type": "execute_result"
    }
   ],
   "source": [
    "Diff_I_C = stroop_df['Incongruent'] - stroop_df['Congruent']\n",
    "Diff_I_C.describe()"
   ]
  },
  {
   "cell_type": "code",
   "execution_count": 9,
   "metadata": {},
   "outputs": [
    {
     "data": {
      "image/png": "[encoded data removed]",
      "text/plain": [
       "<matplotlib.figure.Figure at 0xb4825f8>"
      ]
     },
     "metadata": {},
     "output_type": "display_data"
    }
   ],
   "source": [
    "# histogram (bin size is about 1 second)\n",
    "Diff_I_C.plot.hist(bins=20)\n",
    "plt.xlabel('Subject \"Incongruent - Congruent\" score difference in seconds');"
   ]
  },
  {
   "cell_type": "markdown",
   "metadata": {},
   "source": [
    "The distribution is not normal (about 30% of the values are below 4s). According to <a href=\"#ref3\">ref3</a>, \"the t-test for dependent means is considered typically \"robust\" for violations of normal distribution\". Here, the data is not highly (positively) skewed, therefore no serious error shall be introduced into the test."
   ]
  },
  {
   "cell_type": "markdown",
   "metadata": {},
   "source": [
    "Finally, let us focus on the presence of outliers in the data. By convention a value can be considered as an outlier when it is either 1.5 IQR below the first quartile or 1.5 IQR above the 3rd quartile. We these two limit values:"
   ]
  },
  {
   "cell_type": "code",
   "execution_count": 10,
   "metadata": {},
   "outputs": [
    {
     "name": "stdout",
     "output_type": "stream",
     "text": [
      "A value of this data sample can be considered as an outlier if below -6.27s or above 20.18s.\n"
     ]
    }
   ],
   "source": [
    "Outlier_lower_lim = Diff_I_C.quantile(q=0.25) - 1.5*(Diff_I_C.quantile(q=0.75)-Diff_I_C.quantile(q=0.25))\n",
    "Outlier_upper_lim = Diff_I_C.quantile(q=0.75) + 1.5*(Diff_I_C.quantile(q=0.75)-Diff_I_C.quantile(q=0.25))\n",
    "print('A value of this data sample can be considered as an outlier if below {:.2f}s or above {:.2f}s.'\\\n",
    "      .format(Outlier_lower_lim,Outlier_upper_lim))"
   ]
  },
  {
   "cell_type": "markdown",
   "metadata": {},
   "source": [
    "The lower outlier limit is below 0s, so there is no outlier in this region. On the other hand, we saw above with the describe function that the maximum value is about 22s, which is slightly above the upper outlier limit. \n",
    "Let us have a look at the boxplot to see whether there are other outliers in the upper region."
   ]
  },
  {
   "cell_type": "code",
   "execution_count": 11,
   "metadata": {},
   "outputs": [
    {
     "data": {
      "image/png": "[encoded data removed]",
      "text/plain": [
       "<matplotlib.figure.Figure at 0xc9585c0>"
      ]
     },
     "metadata": {},
     "output_type": "display_data"
    }
   ],
   "source": [
    "# boxplot\n",
    "# the outliers will be depicted as green diamonds.\n",
    "green_diamond = dict(markerfacecolor='g', marker='D')\n",
    "fig1, ax1 = plt.subplots()\n",
    "ax1.set_title('Incongruent - Congruent')\n",
    "ax1.boxplot(Diff_I_C,flierprops=green_diamond)\n",
    "plt.ylabel('Subject score difference in seconds');"
   ]
  },
  {
   "cell_type": "markdown",
   "metadata": {},
   "source": [
    "We see that there is only one outlier. We remove this point from the dataset before going on with the test:"
   ]
  },
  {
   "cell_type": "code",
   "execution_count": 12,
   "metadata": {
    "collapsed": true
   },
   "outputs": [],
   "source": [
    "#Use idxmax to get index of the outlier. Then drop this row from stroop_df dataframe\n",
    "stroop2_df = stroop_df.drop([Diff_I_C.idxmax()])"
   ]
  },
  {
   "cell_type": "code",
   "execution_count": 13,
   "metadata": {},
   "outputs": [
    {
     "data": {
      "text/plain": [
       "23"
      ]
     },
     "execution_count": 13,
     "metadata": {},
     "output_type": "execute_result"
    }
   ],
   "source": [
    "len(stroop2_df)"
   ]
  },
  {
   "cell_type": "markdown",
   "metadata": {},
   "source": [
    "<a id='test'></a>\n",
    "## Statistical test and results\n",
    "\n",
    "### t-Test and interpretation\n",
    "\n",
    "In order to perform the t-test, we will go through the following steps:\n",
    "- compute the size of the sample and its degrees of freedom\n",
    "- compute the difference between incongruent and congruent scores for each subject\n",
    "- compute the mean and standard deviation of this difference\n",
    "- compute the standard error and the t-statistics\n",
    "- consult the t-table to find the critical t-statistics for a one-tailed distribution knowing the alpha level (.05) and the number of degrees of freedom\n",
    "- reject or fail to reject the null hypothesis based on comparison between t-statistics and t-critical."
   ]
  },
  {
   "cell_type": "code",
   "execution_count": 14,
   "metadata": {},
   "outputs": [
    {
     "name": "stdout",
     "output_type": "stream",
     "text": [
      "The sample size is n = 23; the number of degrees of freedom is df = 22.\n"
     ]
    }
   ],
   "source": [
    "n = len(stroop2_df)\n",
    "df = n-1\n",
    "print('The sample size is n = {}; the number of degrees of freedom is df = {}.'.format(n,df))"
   ]
  },
  {
   "cell_type": "code",
   "execution_count": 15,
   "metadata": {},
   "outputs": [
    {
     "name": "stdout",
     "output_type": "stream",
     "text": [
      "The mean of the difference between the samples is Md = 7.36 seconds.\n",
      "The standard deviation of the difference between the samples is S = 3.94 seconds.\n"
     ]
    }
   ],
   "source": [
    "# Note that we can also compute the sample-by-sample difference, and then take the mean of this new variable\n",
    "D = stroop2_df['Incongruent'] - stroop2_df['Congruent']\n",
    "Md = D.mean()\n",
    "S = D.std(ddof=1) #ddof=1 to compute sample standard deviation\n",
    "print('The mean of the difference between the samples is Md = {:.2f} seconds.'.format(Md))\n",
    "print('The standard deviation of the difference between the samples is S = {:.2f} seconds.'.format(S))"
   ]
  },
  {
   "cell_type": "code",
   "execution_count": 16,
   "metadata": {},
   "outputs": [
    {
     "name": "stdout",
     "output_type": "stream",
     "text": [
      "The t-statistics is 8.961\n"
     ]
    }
   ],
   "source": [
    "# Std error\n",
    "SE = S/np.sqrt(n)\n",
    "t_stat = Md/SE\n",
    "print('The t-statistics is {:.3f}'.format(t_stat))"
   ]
  },
  {
   "cell_type": "markdown",
   "metadata": {},
   "source": [
    "According to the t-table (<a href=\"#ref5\">ref5</a>), the critical t-value for df=22 and an alpha level of .05 in a one-tailed t-distribution in positive direction is 1.717.\n",
    "\n",
    "The obtained t-score is higher than the t-critical value. $\\mathbf{We\\,reject\\,the\\,null\\,assumption\\,}$ $H_0$. The probability of randomly choosing a sample of size n=23 for which the difference between sample means is about 7.4s is less than .05. This result is statistically significant. \n"
   ]
  },
  {
   "cell_type": "markdown",
   "metadata": {},
   "source": [
    "### Additional results\n",
    "\n",
    "Now, we compute the 95% confidence interval (CI) for the difference between population means. According to the t-table (<a href=\"#ref5\">ref5</a>), the t-critical value for df=22 and an alpha level of .05 in a two-tailed t-distribution is 2.074."
   ]
  },
  {
   "cell_type": "code",
   "execution_count": 17,
   "metadata": {},
   "outputs": [
    {
     "name": "stdout",
     "output_type": "stream",
     "text": [
      "With a probability of 95%, the mean score in incongruent condition is between 5.7s and 9.1s above the mean score in congruent condition.\n"
     ]
    }
   ],
   "source": [
    "CI_lower = Md - 2.074*SE\n",
    "CI_upper = Md + 2.074*SE\n",
    "print('With a probability of 95%, the mean score in incongruent condition is between {:.1f}s and {:.1f}s above the mean score in congruent condition.'.format(CI_lower,CI_upper))"
   ]
  },
  {
   "cell_type": "markdown",
   "metadata": {},
   "source": [
    "We also compute Cohen's d:"
   ]
  },
  {
   "cell_type": "code",
   "execution_count": 18,
   "metadata": {},
   "outputs": [
    {
     "name": "stdout",
     "output_type": "stream",
     "text": [
      "Cohen's d (mean difference expressed in standard deviation unit) is: 1.87\n"
     ]
    }
   ],
   "source": [
    "# Cohen's d is the mean difference expressed in standard deviation unit:\n",
    "d = Md/S\n",
    "print(\"Cohen's d (mean difference expressed in standard deviation unit) is: {:.2f}\".format(d))"
   ]
  },
  {
   "cell_type": "markdown",
   "metadata": {},
   "source": [
    "Finally we compute and interpret the coefficient of determination $r^2$:"
   ]
  },
  {
   "cell_type": "code",
   "execution_count": 19,
   "metadata": {},
   "outputs": [
    {
     "name": "stdout",
     "output_type": "stream",
     "text": [
      "The coefficient of determination is: 0.78\n",
      "Interpretation of this coefficient: \n",
      "78% of the differences in response time for the sample of 23 people are due to the congruency/incongruency of the stimulis.\n"
     ]
    }
   ],
   "source": [
    "r2 = t_stat**2/(t_stat**2+df)\n",
    "print('The coefficient of determination is: {:.2f}'.format(r2))\n",
    "print('Interpretation of this coefficient: ')\n",
    "print('{:.0%} of the differences in response time for the sample of 23 people are due to the congruency/incongruency of the stimulis.'. \\\n",
    "     format(r2))"
   ]
  },
  {
   "cell_type": "markdown",
   "metadata": {},
   "source": [
    "<a id='conclusions'></a>\n",
    "## Conclusions\n",
    "\n",
    "The results match up with our expectation according to which the response time would be longer in incongruent condition. Note that the reason why this response time is longer is the object of different interpretations (see <a href=\"#ref2\">ref2</a>): processing speed theory, selective attention theory, automacity theory... \n",
    "\n",
    "Several variations of the original Stroop test are briefly presented in the the same Wikipedia article (<a href=\"#ref2\">ref2</a>). The common factor of these variations is that they use visual stimulis (the subject see something and must say out loud something). With my background of acoustical engineer, I came to think about a variant of the Stroop test using audio simulis. \n",
    "\n",
    "Indeed, we can draw a parallel between the color of the ink (at the end the wavelength of the electromagnetic radiation reflected by the ink) and the tone of a sound (wavelength of the soundwave). The experiment would be the following:\n",
    "- The subjects would be presented with a series of audio samples. \n",
    "- Each audio sample would consist in the word 'low', 'medium' or 'high', pronounced by a speaker. \n",
    "- There would several speakers, for instance 5 having a low-tone voice (typically a bass voice type operatic music), 5 having a medium-tone voice (baritone voice type) and 5 having a high-pitch voice (tenor type). \n",
    "- The task would be for the subject (i.e. the listener) to describe the pitch of the audio sample they heard. The answer can be low, medium or high.\n",
    "- In order not to \"pollute\" the audio channel, the subject would answer by clicking on the answer (on a tablet for instance).\n",
    "- In congruent condition, the series of audio samples would consist in a random selection of 'high' pronounced by high-pitch speakers, 'medium' pronounced by mid-tone speakers and 'low' pronounced by low-pitch speakers.\n",
    "- In incongruent condition, the tone of the audio sample would not match with the meaning of the pronounced word, for instance 'high' pronounced with a deep bass voice, then 'low' pronounced by a high-pitch speaker...\n",
    "\n",
    "With such experiment, we expect the total response time (for the series of audio sample) to be longer in incongruent condition than in congruent condition. If statistically confirmed, the result would have to be interpreted using a  psychoacoustical approach."
   ]
  },
  {
   "cell_type": "markdown",
   "metadata": {},
   "source": [
    "<a id='ref'></a>\n",
    "## References"
   ]
  },
  {
   "cell_type": "markdown",
   "metadata": {
    "collapsed": true
   },
   "source": [
    "<a id='ref1'></a> ref1: https://www.nintendo.fr/Jeux/Nintendo-DS/Programme-d-Entrainement-Cerebral-du-Dr-Kawashima-Quel-age-a-votre-cerveau--270627.html\n",
    "\n",
    "<a id='ref2'></a> ref2: https://en.wikipedia.org/wiki/Stroop_effect\n",
    "\n",
    "<a id='ref3'></a> ref3: http://www.psychology.emory.edu/clinical/bliwise/Tutorials/TOM/meanstests/assump.htm\n",
    "\n",
    "<a id='ref4'></a> ref4: http://www.statisticssolutions.com/manova-analysis-paired-sample-t-test/\n",
    "\n",
    "<a id='ref5'></a> ref5: https://s3.amazonaws.com/udacity-hosted-downloads/t-table.jpg"
   ]
  }
 ],
 "metadata": {
  "kernelspec": {
   "display_name": "Python 3",
   "language": "python",
   "name": "python3"
  },
  "language_info": {
   "codemirror_mode": {
    "name": "ipython",
    "version": 3
   },
   "file_extension": ".py",
   "mimetype": "text/x-python",
   "name": "python",
   "nbconvert_exporter": "python",
   "pygments_lexer": "ipython3",
   "version": "3.6.1"
  }
 },
 "nbformat": 4,
 "nbformat_minor": 2
}
